{
 "cells": [
  {
   "cell_type": "code",
   "execution_count": 8,
   "metadata": {},
   "outputs": [
    {
     "data": {
      "text/plain": [
       "'int32'"
      ]
     },
     "execution_count": 8,
     "metadata": {},
     "output_type": "execute_result"
    }
   ],
   "source": [
    "import numpy as np \n",
    "n_array=np.array([[0,1,2,3],[4,5,6,7],[8,9,10,11]])"
   ]
  },
  {
   "cell_type": "code",
   "execution_count": 3,
   "metadata": {},
   "outputs": [
    {
     "data": {
      "text/plain": [
       "2"
      ]
     },
     "execution_count": 3,
     "metadata": {},
     "output_type": "execute_result"
    }
   ],
   "source": [
    "n_array.ndim"
   ]
  },
  {
   "cell_type": "code",
   "execution_count": 4,
   "metadata": {},
   "outputs": [
    {
     "data": {
      "text/plain": [
       "(3, 4)"
      ]
     },
     "execution_count": 4,
     "metadata": {},
     "output_type": "execute_result"
    }
   ],
   "source": [
    "n_array.shape"
   ]
  },
  {
   "cell_type": "code",
   "execution_count": 5,
   "metadata": {},
   "outputs": [
    {
     "data": {
      "text/plain": [
       "12"
      ]
     },
     "execution_count": 5,
     "metadata": {},
     "output_type": "execute_result"
    }
   ],
   "source": [
    "n_array.size"
   ]
  },
  {
   "cell_type": "code",
   "execution_count": 7,
   "metadata": {},
   "outputs": [
    {
     "data": {
      "text/plain": [
       "'int32'"
      ]
     },
     "execution_count": 7,
     "metadata": {},
     "output_type": "execute_result"
    }
   ],
   "source": [
    "n_array.dtype.name"
   ]
  },
  {
   "cell_type": "code",
   "execution_count": 10,
   "metadata": {},
   "outputs": [
    {
     "data": {
      "text/plain": [
       "array([10, 10, 10, 10])"
      ]
     },
     "execution_count": 10,
     "metadata": {},
     "output_type": "execute_result"
    }
   ],
   "source": [
    "a=np.array([11,12,13,14])\n",
    "b=np.array([1,2,3,4])\n",
    "c=a-b\n",
    "c"
   ]
  },
  {
   "cell_type": "code",
   "execution_count": 11,
   "metadata": {},
   "outputs": [
    {
     "data": {
      "text/plain": [
       "array([ 1,  4,  9, 16], dtype=int32)"
      ]
     },
     "execution_count": 11,
     "metadata": {},
     "output_type": "execute_result"
    }
   ],
   "source": [
    "b**2"
   ]
  },
  {
   "cell_type": "code",
   "execution_count": 12,
   "metadata": {},
   "outputs": [
    {
     "data": {
      "text/plain": [
       "array([ 0.54030231, -0.41614684, -0.9899925 , -0.65364362])"
      ]
     },
     "execution_count": 12,
     "metadata": {},
     "output_type": "execute_result"
    }
   ],
   "source": [
    "np.cos(b)"
   ]
  },
  {
   "cell_type": "code",
   "execution_count": 13,
   "metadata": {},
   "outputs": [
    {
     "data": {
      "text/plain": [
       "array([ True, False, False, False])"
      ]
     },
     "execution_count": 13,
     "metadata": {},
     "output_type": "execute_result"
    }
   ],
   "source": [
    "b<2"
   ]
  },
  {
   "cell_type": "code",
   "execution_count": 15,
   "metadata": {},
   "outputs": [
    {
     "data": {
      "text/plain": [
       "array([[2, 0],\n",
       "       [0, 4]])"
      ]
     },
     "execution_count": 15,
     "metadata": {},
     "output_type": "execute_result"
    }
   ],
   "source": [
    "A1=np.array([[1,1],[0,1]])\n",
    "A2=np.array([[2,0],[3,4]])\n",
    "A1*A2\n",
    "\n"
   ]
  },
  {
   "cell_type": "code",
   "execution_count": 16,
   "metadata": {},
   "outputs": [
    {
     "data": {
      "text/plain": [
       "array([[5, 4],\n",
       "       [3, 4]])"
      ]
     },
     "execution_count": 16,
     "metadata": {},
     "output_type": "execute_result"
    }
   ],
   "source": [
    "np.dot(A1,A2)"
   ]
  },
  {
   "cell_type": "code",
   "execution_count": 17,
   "metadata": {},
   "outputs": [
    {
     "data": {
      "text/plain": [
       "1"
      ]
     },
     "execution_count": 17,
     "metadata": {},
     "output_type": "execute_result"
    }
   ],
   "source": [
    "n_array[0,1]"
   ]
  },
  {
   "cell_type": "code",
   "execution_count": 18,
   "metadata": {},
   "outputs": [
    {
     "data": {
      "text/plain": [
       "array([0, 1, 2])"
      ]
     },
     "execution_count": 18,
     "metadata": {},
     "output_type": "execute_result"
    }
   ],
   "source": [
    "n_array[0,0:3]"
   ]
  },
  {
   "cell_type": "code",
   "execution_count": 19,
   "metadata": {},
   "outputs": [
    {
     "data": {
      "text/plain": [
       "array([1, 5, 9])"
      ]
     },
     "execution_count": 19,
     "metadata": {},
     "output_type": "execute_result"
    }
   ],
   "source": [
    "n_array[:,1]"
   ]
  },
  {
   "cell_type": "code",
   "execution_count": 20,
   "metadata": {},
   "outputs": [
    {
     "data": {
      "text/plain": [
       "array([0, 1, 2, 3])"
      ]
     },
     "execution_count": 20,
     "metadata": {},
     "output_type": "execute_result"
    }
   ],
   "source": [
    "n_array[0,:]"
   ]
  },
  {
   "cell_type": "code",
   "execution_count": 21,
   "metadata": {},
   "outputs": [
    {
     "data": {
      "text/plain": [
       "array([ 0,  1,  2,  3,  4,  5,  6,  7,  8,  9, 10, 11])"
      ]
     },
     "execution_count": 21,
     "metadata": {},
     "output_type": "execute_result"
    }
   ],
   "source": [
    "n_array.ravel()"
   ]
  },
  {
   "cell_type": "code",
   "execution_count": 23,
   "metadata": {},
   "outputs": [
    {
     "data": {
      "text/plain": [
       "array([[ 0,  1],\n",
       "       [ 2,  3],\n",
       "       [ 4,  5],\n",
       "       [ 6,  7],\n",
       "       [ 8,  9],\n",
       "       [10, 11]])"
      ]
     },
     "execution_count": 23,
     "metadata": {},
     "output_type": "execute_result"
    }
   ],
   "source": [
    "n_array.shape=(6,2)\n",
    "n_array"
   ]
  },
  {
   "cell_type": "code",
   "execution_count": 24,
   "metadata": {},
   "outputs": [
    {
     "data": {
      "text/plain": [
       "array([[ 0,  2,  4,  6,  8, 10],\n",
       "       [ 1,  3,  5,  7,  9, 11]])"
      ]
     },
     "execution_count": 24,
     "metadata": {},
     "output_type": "execute_result"
    }
   ],
   "source": [
    "n_array.transpose()"
   ]
  },
  {
   "cell_type": "code",
   "execution_count": 25,
   "metadata": {},
   "outputs": [
    {
     "data": {
      "text/plain": [
       "0    0.347453\n",
       "1    0.634283\n",
       "2    0.515212\n",
       "3    0.780682\n",
       "4    2.217635\n",
       "dtype: float64"
      ]
     },
     "execution_count": 25,
     "metadata": {},
     "output_type": "execute_result"
    }
   ],
   "source": [
    "import pandas as pd\n",
    "pd.Series(np.random.randn(5))"
   ]
  },
  {
   "cell_type": "code",
   "execution_count": 26,
   "metadata": {},
   "outputs": [
    {
     "data": {
      "text/plain": [
       "a   -0.032743\n",
       "b   -1.483004\n",
       "c   -3.000432\n",
       "d   -0.389197\n",
       "e    1.507003\n",
       "dtype: float64"
      ]
     },
     "execution_count": 26,
     "metadata": {},
     "output_type": "execute_result"
    }
   ],
   "source": [
    "pd.Series(np.random.randn(5),index=['a','b','c','d','e'])"
   ]
  },
  {
   "cell_type": "code",
   "execution_count": 27,
   "metadata": {},
   "outputs": [
    {
     "data": {
      "text/plain": [
       "A    10\n",
       "B    20\n",
       "C    30\n",
       "dtype: int64"
      ]
     },
     "execution_count": 27,
     "metadata": {},
     "output_type": "execute_result"
    }
   ],
   "source": [
    "d={'A':10,'B':20,'C':30}\n",
    "pd.Series(d)"
   ]
  },
  {
   "cell_type": "code",
   "execution_count": 29,
   "metadata": {},
   "outputs": [
    {
     "data": {
      "text/html": [
       "<div>\n",
       "<style scoped>\n",
       "    .dataframe tbody tr th:only-of-type {\n",
       "        vertical-align: middle;\n",
       "    }\n",
       "\n",
       "    .dataframe tbody tr th {\n",
       "        vertical-align: top;\n",
       "    }\n",
       "\n",
       "    .dataframe thead th {\n",
       "        text-align: right;\n",
       "    }\n",
       "</style>\n",
       "<table border=\"1\" class=\"dataframe\">\n",
       "  <thead>\n",
       "    <tr style=\"text-align: right;\">\n",
       "      <th></th>\n",
       "      <th>c1</th>\n",
       "      <th>c2</th>\n",
       "    </tr>\n",
       "  </thead>\n",
       "  <tbody>\n",
       "    <tr>\n",
       "      <td>0</td>\n",
       "      <td>A</td>\n",
       "      <td>1.0</td>\n",
       "    </tr>\n",
       "    <tr>\n",
       "      <td>1</td>\n",
       "      <td>B</td>\n",
       "      <td>2.0</td>\n",
       "    </tr>\n",
       "    <tr>\n",
       "      <td>2</td>\n",
       "      <td>C</td>\n",
       "      <td>3.0</td>\n",
       "    </tr>\n",
       "    <tr>\n",
       "      <td>3</td>\n",
       "      <td>NaN</td>\n",
       "      <td>4.0</td>\n",
       "    </tr>\n",
       "  </tbody>\n",
       "</table>\n",
       "</div>"
      ],
      "text/plain": [
       "    c1   c2\n",
       "0    A  1.0\n",
       "1    B  2.0\n",
       "2    C  3.0\n",
       "3  NaN  4.0"
      ]
     },
     "execution_count": 29,
     "metadata": {},
     "output_type": "execute_result"
    }
   ],
   "source": [
    "d={'c1':pd.Series(['A','B','C']),'c2':pd.Series([1,2.,3.,4.])}\n",
    "df=pd.DataFrame(d)\n",
    "df"
   ]
  },
  {
   "cell_type": "code",
   "execution_count": 32,
   "metadata": {},
   "outputs": [
    {
     "name": "stdout",
     "output_type": "stream",
     "text": [
      "  c1   c2\n",
      "0  A  1.0\n",
      "1  B  2.0\n",
      "2  C  3.0\n",
      "3  D  4.0\n"
     ]
    }
   ],
   "source": [
    "d={'c1':['A','B','C','D'],'c2':[1,2.0,3.0,4.0]}\n",
    "df=pd.DataFrame(d)\n",
    "print(df)"
   ]
  },
  {
   "cell_type": "code",
   "execution_count": 46,
   "metadata": {},
   "outputs": [
    {
     "name": "stdout",
     "output_type": "stream",
     "text": [
      "This is how to read and write DATA\n"
     ]
    }
   ],
   "source": [
    "print('This is how to read and write DATA')"
   ]
  },
  {
   "cell_type": "code",
   "execution_count": 45,
   "metadata": {},
   "outputs": [
    {
     "name": "stdout",
     "output_type": "stream",
     "text": [
      "This is how to read CSV\n",
      "This is how to write CSV\n"
     ]
    }
   ],
   "source": [
    "print('This is how to read CSV')\n",
    "#d=pd.read_csv('Data/Student_Weight_Status_Category_Reporting_Results_Begining_2010.csv')\n",
    "#d[0:5]['AREA NAME']\n",
    "print('This is how to write CSV')\n",
    "#d={'c1':pd.Series(['A','B','C']),'c2':pd.Series([1,2.,3.,4.])}\n",
    "#df=pd.DataFrame(d)\n",
    "#df.to_csv('sample_data.csv')"
   ]
  },
  {
   "cell_type": "code",
   "execution_count": 47,
   "metadata": {},
   "outputs": [
    {
     "name": "stdout",
     "output_type": "stream",
     "text": [
      "This is how to read XLS\n",
      "This is how to write XLS\n"
     ]
    }
   ],
   "source": [
    "print('This is how to read XLS')\n",
    "#d=pd.read_excel('Data/Student_Weight_Status_Category.xls')\n",
    "print('This is how to write XLS')\n",
    "#df.to_excel('sample_data.xls')"
   ]
  },
  {
   "cell_type": "code",
   "execution_count": 48,
   "metadata": {},
   "outputs": [
    {
     "name": "stdout",
     "output_type": "stream",
     "text": [
      "This is how to read JSON\n"
     ]
    }
   ],
   "source": [
    "print('This is how to read JSON')\n",
    "#import json\n",
    "#json_data=open('Data/Student_Weights_Status_Category.json')\n",
    "#data=json.load(json_data)\n",
    "#json_data.close()\n",
    "#pd.read_json()"
   ]
  },
  {
   "cell_type": "code",
   "execution_count": 49,
   "metadata": {},
   "outputs": [
    {
     "name": "stdout",
     "output_type": "stream",
     "text": [
      "This is how to read Database\n"
     ]
    }
   ],
   "source": [
    "print('This is how to read Database')\n",
    "#pd.read_sql_table(table_name, con)\n",
    "#table_name: This refers to the name of the SQL table in a database\n",
    "#con: This refers to the SQLAlchemy engine\n",
    "#pd.read_sql_query(sql, con)\n",
    "#sql: This refers to the SQL query that is to be executed\n",
    "#con: This refers to the SQLAlchemy engine"
   ]
  },
  {
   "cell_type": "code",
   "execution_count": 51,
   "metadata": {},
   "outputs": [
    {
     "name": "stdout",
     "output_type": "stream",
     "text": [
      "Checking the missing data\n"
     ]
    }
   ],
   "source": [
    "print('Checking the missing data')\n",
    "#d['Location 1'].isnull()\n",
    "#d['Location 1'].isnull().value_counts()\n",
    "#d['Location 1'].dropna()\n",
    "#d=d.dropna(how='any')"
   ]
  },
  {
   "cell_type": "code",
   "execution_count": 55,
   "metadata": {},
   "outputs": [
    {
     "name": "stdout",
     "output_type": "stream",
     "text": [
      "Filling the missing data\n"
     ]
    },
    {
     "data": {
      "text/html": [
       "<div>\n",
       "<style scoped>\n",
       "    .dataframe tbody tr th:only-of-type {\n",
       "        vertical-align: middle;\n",
       "    }\n",
       "\n",
       "    .dataframe tbody tr th {\n",
       "        vertical-align: top;\n",
       "    }\n",
       "\n",
       "    .dataframe thead th {\n",
       "        text-align: right;\n",
       "    }\n",
       "</style>\n",
       "<table border=\"1\" class=\"dataframe\">\n",
       "  <thead>\n",
       "    <tr style=\"text-align: right;\">\n",
       "      <th></th>\n",
       "      <th>X</th>\n",
       "      <th>Y</th>\n",
       "      <th>Z</th>\n",
       "    </tr>\n",
       "  </thead>\n",
       "  <tbody>\n",
       "    <tr>\n",
       "      <td>a0</td>\n",
       "      <td>-0.490730</td>\n",
       "      <td>-1.379123</td>\n",
       "      <td>-0.449804</td>\n",
       "    </tr>\n",
       "    <tr>\n",
       "      <td>a10</td>\n",
       "      <td>0.355931</td>\n",
       "      <td>-1.479990</td>\n",
       "      <td>-1.179176</td>\n",
       "    </tr>\n",
       "    <tr>\n",
       "      <td>a20</td>\n",
       "      <td>-0.134560</td>\n",
       "      <td>-1.204804</td>\n",
       "      <td>-0.211657</td>\n",
       "    </tr>\n",
       "    <tr>\n",
       "      <td>a30</td>\n",
       "      <td>0.412147</td>\n",
       "      <td>-0.299045</td>\n",
       "      <td>1.449004</td>\n",
       "    </tr>\n",
       "    <tr>\n",
       "      <td>a40</td>\n",
       "      <td>0.548224</td>\n",
       "      <td>0.086035</td>\n",
       "      <td>-0.593517</td>\n",
       "    </tr>\n",
       "  </tbody>\n",
       "</table>\n",
       "</div>"
      ],
      "text/plain": [
       "            X         Y         Z\n",
       "a0  -0.490730 -1.379123 -0.449804\n",
       "a10  0.355931 -1.479990 -1.179176\n",
       "a20 -0.134560 -1.204804 -0.211657\n",
       "a30  0.412147 -0.299045  1.449004\n",
       "a40  0.548224  0.086035 -0.593517"
      ]
     },
     "execution_count": 55,
     "metadata": {},
     "output_type": "execute_result"
    }
   ],
   "source": [
    "print('Filling the missing data')\n",
    "df = pd.DataFrame(np.random.randn(5, 3), index=['a0', 'a10','a20', 'a30', 'a40'],columns=['X', 'Y', 'Z'])\n",
    "df"
   ]
  },
  {
   "cell_type": "code",
   "execution_count": 58,
   "metadata": {},
   "outputs": [
    {
     "data": {
      "text/html": [
       "<div>\n",
       "<style scoped>\n",
       "    .dataframe tbody tr th:only-of-type {\n",
       "        vertical-align: middle;\n",
       "    }\n",
       "\n",
       "    .dataframe tbody tr th {\n",
       "        vertical-align: top;\n",
       "    }\n",
       "\n",
       "    .dataframe thead th {\n",
       "        text-align: right;\n",
       "    }\n",
       "</style>\n",
       "<table border=\"1\" class=\"dataframe\">\n",
       "  <thead>\n",
       "    <tr style=\"text-align: right;\">\n",
       "      <th></th>\n",
       "      <th>X</th>\n",
       "      <th>Y</th>\n",
       "      <th>Z</th>\n",
       "    </tr>\n",
       "  </thead>\n",
       "  <tbody>\n",
       "    <tr>\n",
       "      <td>a0</td>\n",
       "      <td>-0.490730</td>\n",
       "      <td>-1.379123</td>\n",
       "      <td>-0.449804</td>\n",
       "    </tr>\n",
       "    <tr>\n",
       "      <td>a1</td>\n",
       "      <td>NaN</td>\n",
       "      <td>NaN</td>\n",
       "      <td>NaN</td>\n",
       "    </tr>\n",
       "    <tr>\n",
       "      <td>a10</td>\n",
       "      <td>0.355931</td>\n",
       "      <td>-1.479990</td>\n",
       "      <td>-1.179176</td>\n",
       "    </tr>\n",
       "    <tr>\n",
       "      <td>a11</td>\n",
       "      <td>NaN</td>\n",
       "      <td>NaN</td>\n",
       "      <td>NaN</td>\n",
       "    </tr>\n",
       "    <tr>\n",
       "      <td>a20</td>\n",
       "      <td>-0.134560</td>\n",
       "      <td>-1.204804</td>\n",
       "      <td>-0.211657</td>\n",
       "    </tr>\n",
       "    <tr>\n",
       "      <td>a21</td>\n",
       "      <td>NaN</td>\n",
       "      <td>NaN</td>\n",
       "      <td>NaN</td>\n",
       "    </tr>\n",
       "    <tr>\n",
       "      <td>a30</td>\n",
       "      <td>0.412147</td>\n",
       "      <td>-0.299045</td>\n",
       "      <td>1.449004</td>\n",
       "    </tr>\n",
       "    <tr>\n",
       "      <td>a31</td>\n",
       "      <td>NaN</td>\n",
       "      <td>NaN</td>\n",
       "      <td>NaN</td>\n",
       "    </tr>\n",
       "    <tr>\n",
       "      <td>a40</td>\n",
       "      <td>0.548224</td>\n",
       "      <td>0.086035</td>\n",
       "      <td>-0.593517</td>\n",
       "    </tr>\n",
       "    <tr>\n",
       "      <td>a41</td>\n",
       "      <td>NaN</td>\n",
       "      <td>NaN</td>\n",
       "      <td>NaN</td>\n",
       "    </tr>\n",
       "  </tbody>\n",
       "</table>\n",
       "</div>"
      ],
      "text/plain": [
       "            X         Y         Z\n",
       "a0  -0.490730 -1.379123 -0.449804\n",
       "a1        NaN       NaN       NaN\n",
       "a10  0.355931 -1.479990 -1.179176\n",
       "a11       NaN       NaN       NaN\n",
       "a20 -0.134560 -1.204804 -0.211657\n",
       "a21       NaN       NaN       NaN\n",
       "a30  0.412147 -0.299045  1.449004\n",
       "a31       NaN       NaN       NaN\n",
       "a40  0.548224  0.086035 -0.593517\n",
       "a41       NaN       NaN       NaN"
      ]
     },
     "execution_count": 58,
     "metadata": {},
     "output_type": "execute_result"
    }
   ],
   "source": [
    "df = df.reindex(['a0', 'a1', 'a10', 'a11', 'a20', 'a21','a30', 'a31', 'a40', 'a41'])\n",
    "df"
   ]
  },
  {
   "cell_type": "code",
   "execution_count": 59,
   "metadata": {},
   "outputs": [
    {
     "data": {
      "text/html": [
       "<div>\n",
       "<style scoped>\n",
       "    .dataframe tbody tr th:only-of-type {\n",
       "        vertical-align: middle;\n",
       "    }\n",
       "\n",
       "    .dataframe tbody tr th {\n",
       "        vertical-align: top;\n",
       "    }\n",
       "\n",
       "    .dataframe thead th {\n",
       "        text-align: right;\n",
       "    }\n",
       "</style>\n",
       "<table border=\"1\" class=\"dataframe\">\n",
       "  <thead>\n",
       "    <tr style=\"text-align: right;\">\n",
       "      <th></th>\n",
       "      <th>X</th>\n",
       "      <th>Y</th>\n",
       "      <th>Z</th>\n",
       "    </tr>\n",
       "  </thead>\n",
       "  <tbody>\n",
       "    <tr>\n",
       "      <td>a0</td>\n",
       "      <td>-0.490730</td>\n",
       "      <td>-1.379123</td>\n",
       "      <td>-0.449804</td>\n",
       "    </tr>\n",
       "    <tr>\n",
       "      <td>a1</td>\n",
       "      <td>0.000000</td>\n",
       "      <td>0.000000</td>\n",
       "      <td>0.000000</td>\n",
       "    </tr>\n",
       "    <tr>\n",
       "      <td>a10</td>\n",
       "      <td>0.355931</td>\n",
       "      <td>-1.479990</td>\n",
       "      <td>-1.179176</td>\n",
       "    </tr>\n",
       "    <tr>\n",
       "      <td>a11</td>\n",
       "      <td>0.000000</td>\n",
       "      <td>0.000000</td>\n",
       "      <td>0.000000</td>\n",
       "    </tr>\n",
       "    <tr>\n",
       "      <td>a20</td>\n",
       "      <td>-0.134560</td>\n",
       "      <td>-1.204804</td>\n",
       "      <td>-0.211657</td>\n",
       "    </tr>\n",
       "    <tr>\n",
       "      <td>a21</td>\n",
       "      <td>0.000000</td>\n",
       "      <td>0.000000</td>\n",
       "      <td>0.000000</td>\n",
       "    </tr>\n",
       "    <tr>\n",
       "      <td>a30</td>\n",
       "      <td>0.412147</td>\n",
       "      <td>-0.299045</td>\n",
       "      <td>1.449004</td>\n",
       "    </tr>\n",
       "    <tr>\n",
       "      <td>a31</td>\n",
       "      <td>0.000000</td>\n",
       "      <td>0.000000</td>\n",
       "      <td>0.000000</td>\n",
       "    </tr>\n",
       "    <tr>\n",
       "      <td>a40</td>\n",
       "      <td>0.548224</td>\n",
       "      <td>0.086035</td>\n",
       "      <td>-0.593517</td>\n",
       "    </tr>\n",
       "    <tr>\n",
       "      <td>a41</td>\n",
       "      <td>0.000000</td>\n",
       "      <td>0.000000</td>\n",
       "      <td>0.000000</td>\n",
       "    </tr>\n",
       "  </tbody>\n",
       "</table>\n",
       "</div>"
      ],
      "text/plain": [
       "            X         Y         Z\n",
       "a0  -0.490730 -1.379123 -0.449804\n",
       "a1   0.000000  0.000000  0.000000\n",
       "a10  0.355931 -1.479990 -1.179176\n",
       "a11  0.000000  0.000000  0.000000\n",
       "a20 -0.134560 -1.204804 -0.211657\n",
       "a21  0.000000  0.000000  0.000000\n",
       "a30  0.412147 -0.299045  1.449004\n",
       "a31  0.000000  0.000000  0.000000\n",
       "a40  0.548224  0.086035 -0.593517\n",
       "a41  0.000000  0.000000  0.000000"
      ]
     },
     "execution_count": 59,
     "metadata": {},
     "output_type": "execute_result"
    }
   ],
   "source": [
    "df.fillna(0)"
   ]
  },
  {
   "cell_type": "code",
   "execution_count": 61,
   "metadata": {},
   "outputs": [
    {
     "data": {
      "text/html": [
       "<div>\n",
       "<style scoped>\n",
       "    .dataframe tbody tr th:only-of-type {\n",
       "        vertical-align: middle;\n",
       "    }\n",
       "\n",
       "    .dataframe tbody tr th {\n",
       "        vertical-align: top;\n",
       "    }\n",
       "\n",
       "    .dataframe thead th {\n",
       "        text-align: right;\n",
       "    }\n",
       "</style>\n",
       "<table border=\"1\" class=\"dataframe\">\n",
       "  <thead>\n",
       "    <tr style=\"text-align: right;\">\n",
       "      <th></th>\n",
       "      <th>X</th>\n",
       "      <th>Y</th>\n",
       "      <th>Z</th>\n",
       "    </tr>\n",
       "  </thead>\n",
       "  <tbody>\n",
       "    <tr>\n",
       "      <td>a0</td>\n",
       "      <td>-0.490730</td>\n",
       "      <td>-1.379123</td>\n",
       "      <td>-0.449804</td>\n",
       "    </tr>\n",
       "    <tr>\n",
       "      <td>a1</td>\n",
       "      <td>-0.490730</td>\n",
       "      <td>-1.379123</td>\n",
       "      <td>-0.449804</td>\n",
       "    </tr>\n",
       "    <tr>\n",
       "      <td>a10</td>\n",
       "      <td>0.355931</td>\n",
       "      <td>-1.479990</td>\n",
       "      <td>-1.179176</td>\n",
       "    </tr>\n",
       "    <tr>\n",
       "      <td>a11</td>\n",
       "      <td>0.355931</td>\n",
       "      <td>-1.479990</td>\n",
       "      <td>-1.179176</td>\n",
       "    </tr>\n",
       "    <tr>\n",
       "      <td>a20</td>\n",
       "      <td>-0.134560</td>\n",
       "      <td>-1.204804</td>\n",
       "      <td>-0.211657</td>\n",
       "    </tr>\n",
       "    <tr>\n",
       "      <td>a21</td>\n",
       "      <td>-0.134560</td>\n",
       "      <td>-1.204804</td>\n",
       "      <td>-0.211657</td>\n",
       "    </tr>\n",
       "    <tr>\n",
       "      <td>a30</td>\n",
       "      <td>0.412147</td>\n",
       "      <td>-0.299045</td>\n",
       "      <td>1.449004</td>\n",
       "    </tr>\n",
       "    <tr>\n",
       "      <td>a31</td>\n",
       "      <td>0.412147</td>\n",
       "      <td>-0.299045</td>\n",
       "      <td>1.449004</td>\n",
       "    </tr>\n",
       "    <tr>\n",
       "      <td>a40</td>\n",
       "      <td>0.548224</td>\n",
       "      <td>0.086035</td>\n",
       "      <td>-0.593517</td>\n",
       "    </tr>\n",
       "    <tr>\n",
       "      <td>a41</td>\n",
       "      <td>0.548224</td>\n",
       "      <td>0.086035</td>\n",
       "      <td>-0.593517</td>\n",
       "    </tr>\n",
       "  </tbody>\n",
       "</table>\n",
       "</div>"
      ],
      "text/plain": [
       "            X         Y         Z\n",
       "a0  -0.490730 -1.379123 -0.449804\n",
       "a1  -0.490730 -1.379123 -0.449804\n",
       "a10  0.355931 -1.479990 -1.179176\n",
       "a11  0.355931 -1.479990 -1.179176\n",
       "a20 -0.134560 -1.204804 -0.211657\n",
       "a21 -0.134560 -1.204804 -0.211657\n",
       "a30  0.412147 -0.299045  1.449004\n",
       "a31  0.412147 -0.299045  1.449004\n",
       "a40  0.548224  0.086035 -0.593517\n",
       "a41  0.548224  0.086035 -0.593517"
      ]
     },
     "execution_count": 61,
     "metadata": {},
     "output_type": "execute_result"
    }
   ],
   "source": [
    "df.fillna(method='pad')#filling with forward propagation"
   ]
  },
  {
   "cell_type": "code",
   "execution_count": 65,
   "metadata": {},
   "outputs": [
    {
     "data": {
      "text/html": [
       "<div>\n",
       "<style scoped>\n",
       "    .dataframe tbody tr th:only-of-type {\n",
       "        vertical-align: middle;\n",
       "    }\n",
       "\n",
       "    .dataframe tbody tr th {\n",
       "        vertical-align: top;\n",
       "    }\n",
       "\n",
       "    .dataframe thead th {\n",
       "        text-align: right;\n",
       "    }\n",
       "</style>\n",
       "<table border=\"1\" class=\"dataframe\">\n",
       "  <thead>\n",
       "    <tr style=\"text-align: right;\">\n",
       "      <th></th>\n",
       "      <th>X</th>\n",
       "      <th>Y</th>\n",
       "      <th>Z</th>\n",
       "    </tr>\n",
       "  </thead>\n",
       "  <tbody>\n",
       "    <tr>\n",
       "      <td>a0</td>\n",
       "      <td>-0.490730</td>\n",
       "      <td>-1.379123</td>\n",
       "      <td>-0.449804</td>\n",
       "    </tr>\n",
       "    <tr>\n",
       "      <td>a1</td>\n",
       "      <td>0.138203</td>\n",
       "      <td>-0.855386</td>\n",
       "      <td>-0.197030</td>\n",
       "    </tr>\n",
       "    <tr>\n",
       "      <td>a10</td>\n",
       "      <td>0.355931</td>\n",
       "      <td>-1.479990</td>\n",
       "      <td>-1.179176</td>\n",
       "    </tr>\n",
       "    <tr>\n",
       "      <td>a11</td>\n",
       "      <td>0.138203</td>\n",
       "      <td>-0.855386</td>\n",
       "      <td>-0.197030</td>\n",
       "    </tr>\n",
       "    <tr>\n",
       "      <td>a20</td>\n",
       "      <td>-0.134560</td>\n",
       "      <td>-1.204804</td>\n",
       "      <td>-0.211657</td>\n",
       "    </tr>\n",
       "    <tr>\n",
       "      <td>a21</td>\n",
       "      <td>0.138203</td>\n",
       "      <td>-0.855386</td>\n",
       "      <td>-0.197030</td>\n",
       "    </tr>\n",
       "    <tr>\n",
       "      <td>a30</td>\n",
       "      <td>0.412147</td>\n",
       "      <td>-0.299045</td>\n",
       "      <td>1.449004</td>\n",
       "    </tr>\n",
       "    <tr>\n",
       "      <td>a31</td>\n",
       "      <td>0.138203</td>\n",
       "      <td>-0.855386</td>\n",
       "      <td>-0.197030</td>\n",
       "    </tr>\n",
       "    <tr>\n",
       "      <td>a40</td>\n",
       "      <td>0.548224</td>\n",
       "      <td>0.086035</td>\n",
       "      <td>-0.593517</td>\n",
       "    </tr>\n",
       "    <tr>\n",
       "      <td>a41</td>\n",
       "      <td>0.138203</td>\n",
       "      <td>-0.855386</td>\n",
       "      <td>-0.197030</td>\n",
       "    </tr>\n",
       "  </tbody>\n",
       "</table>\n",
       "</div>"
      ],
      "text/plain": [
       "            X         Y         Z\n",
       "a0  -0.490730 -1.379123 -0.449804\n",
       "a1   0.138203 -0.855386 -0.197030\n",
       "a10  0.355931 -1.479990 -1.179176\n",
       "a11  0.138203 -0.855386 -0.197030\n",
       "a20 -0.134560 -1.204804 -0.211657\n",
       "a21  0.138203 -0.855386 -0.197030\n",
       "a30  0.412147 -0.299045  1.449004\n",
       "a31  0.138203 -0.855386 -0.197030\n",
       "a40  0.548224  0.086035 -0.593517\n",
       "a41  0.138203 -0.855386 -0.197030"
      ]
     },
     "execution_count": 65,
     "metadata": {},
     "output_type": "execute_result"
    }
   ],
   "source": [
    "df.fillna(df.mean()) #moyenne"
   ]
  },
  {
   "cell_type": "code",
   "execution_count": 66,
   "metadata": {},
   "outputs": [
    {
     "name": "stdout",
     "output_type": "stream",
     "text": [
      "String Operation\n"
     ]
    }
   ],
   "source": [
    "print('String Operation')\n",
    "#df = pd.read_csv('Data/Student_Weight_Status_Category_Reporting_Results__Beginning_2010.csv')\n",
    "#df['AREA NAME'][0:5]\n",
    "#df['AREA NAME'][0:5].str.extract('(\\w+)')\n",
    "#df['AREA NAME'][0:5].str.extract('(\\w+)\\s(\\w+)')\n",
    "#df[df['GRADE LEVEL'] == 'ELEMENTARY']\n",
    "#df['AREA NAME'][0:5].str.upper()\n",
    "#df['AREA NAME'][0:5].str.lower()\n",
    "#df['AREA NAME'][0:5].str.len()\n",
    "#df['AREA NAME'][0:5].str.split(' ')\n",
    "#df['AREA NAME'][0:5].str.replace('DISTRICT$', 'DIST')"
   ]
  },
  {
   "cell_type": "code",
   "execution_count": 67,
   "metadata": {},
   "outputs": [
    {
     "name": "stdout",
     "output_type": "stream",
     "text": [
      "Merging data\n"
     ]
    }
   ],
   "source": [
    "print('Merging data')\n",
    "#d[['AREA NAME', 'COUNTY']][0:5]\n",
    "#p1 = d[['AREA NAME', 'COUNTY']][0:2]\n",
    "#p2 = d[['AREA NAME', 'COUNTY']][2:5]\n",
    "#pd.concat([p1,p2])\n",
    "#concatenated = pd.concat([p1,p2], keys = ['p1','p2'])#adding key\n",
    "#concatenated\n",
    "#concatenated.ix['p1']"
   ]
  },
  {
   "cell_type": "code",
   "execution_count": 68,
   "metadata": {},
   "outputs": [
    {
     "name": "stdout",
     "output_type": "stream",
     "text": [
      "Aggregation operations\n"
     ]
    }
   ],
   "source": [
    "print('Aggregation operations')\n",
    "#average number of students :data = d[d['GRADE LEVEL'] == 'ELEMENTARY']\n",
    "#data['NO. OBESE'].mean() : moyenne of students who are obese\n",
    "#data['NO. OBESE'].sum() :sum of students who are obese\n",
    "#data['NO. OBESE'].max() :max of students who are obese\n",
    "#data['NO. OBESE'].min() :min of students who are obese\n",
    "#data['NO. OBESE'].std() :standard deviation number of obese students\n",
    "#data = df[(d['GRADE LEVEL'] == 'ELEMENTARY') &(d['COUNTY'] == 'DELAWARE')]\n",
    "#data['COUNTY'].count() :count the total number of schools with the ELEMENTARY grade inthe DELAWARE county"
   ]
  },
  {
   "cell_type": "code",
   "execution_count": 69,
   "metadata": {},
   "outputs": [
    {
     "name": "stdout",
     "output_type": "stream",
     "text": [
      "Data operation :JOINS\n"
     ]
    }
   ],
   "source": [
    "print('Data operation :JOINS')\n",
    "#grade_lookup = {'GRADE LEVEL': pd.Series(['ELEMENTARY','MIDDLE/HIGH', 'MISC']),'LEVEL': pd.Series([1, 2, 3])}\n",
    "#grade_lookup = DataFrame(grade_lookup)\n",
    "#df[['GRADE LEVEL']][0:5]"
   ]
  },
  {
   "cell_type": "code",
   "execution_count": 70,
   "metadata": {},
   "outputs": [
    {
     "name": "stdout",
     "output_type": "stream",
     "text": [
      "Data operation :The inner join\n"
     ]
    }
   ],
   "source": [
    "print('Data operation :The inner join')\n",
    "#d_sub = df[0:5].join(grade_lookup.set_index(['GRADE LEVEL']),on=['GRADE LEVEL'], how='inner')\n",
    "#d_sub[['GRADE LEVEL', 'LEVEL']]"
   ]
  },
  {
   "cell_type": "code",
   "execution_count": 71,
   "metadata": {},
   "outputs": [
    {
     "name": "stdout",
     "output_type": "stream",
     "text": [
      "Data operation :The left outer join\n"
     ]
    }
   ],
   "source": [
    "print('Data operation :The left outer join')\n",
    "#d_sub = df[0:5].join(grade_lookup.set_index(['GRADE LEVEL']),on=['GRADE LEVEL'], how='left')\n",
    "#d_sub[['GRADE LEVEL', 'LEVEL']]"
   ]
  },
  {
   "cell_type": "code",
   "execution_count": 72,
   "metadata": {},
   "outputs": [
    {
     "name": "stdout",
     "output_type": "stream",
     "text": [
      "Data operation :The full outer join\n"
     ]
    }
   ],
   "source": [
    "print('Data operation :The full outer join')\n",
    "#d_sub = df[0:5].join(grade_lookup.set_index(['GRADE LEVEL']),on=['GRADE LEVEL'], how='outer')\n",
    "#d_sub[['GRADE LEVEL', 'LEVEL']]"
   ]
  },
  {
   "cell_type": "code",
   "execution_count": null,
   "metadata": {},
   "outputs": [],
   "source": [
    "print('Data operation :The groupby function')\n",
    "#df['NO. OBESE'].groupby(d['GRADE LEVEL']).sum()\n",
    "#d['NO. OBESE'].groupby(d['GRADE LEVEL']).aggregate(sum)\n",
    "#df['NO. OBESE'].groupby(d['GRADE LEVEL']).aggregate([sum, mean,std])"
   ]
  }
 ],
 "metadata": {
  "kernelspec": {
   "display_name": "Python 3",
   "language": "python",
   "name": "python3"
  },
  "language_info": {
   "codemirror_mode": {
    "name": "ipython",
    "version": 3
   },
   "file_extension": ".py",
   "mimetype": "text/x-python",
   "name": "python",
   "nbconvert_exporter": "python",
   "pygments_lexer": "ipython3",
   "version": "3.7.4"
  }
 },
 "nbformat": 4,
 "nbformat_minor": 2
}
